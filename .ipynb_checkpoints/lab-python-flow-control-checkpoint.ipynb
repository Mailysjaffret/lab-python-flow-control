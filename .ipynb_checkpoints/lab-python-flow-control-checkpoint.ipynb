{
 "cells": [
  {
   "cell_type": "markdown",
   "id": "d3bfc191-8885-42ee-b0a0-bbab867c6f9f",
   "metadata": {
    "tags": []
   },
   "source": [
    "# Lab | Flow Control"
   ]
  },
  {
   "cell_type": "markdown",
   "id": "3851fcd1-cf98-4653-9c89-e003b7ec9400",
   "metadata": {},
   "source": [
    "## Exercise: Managing Customer Orders Optimized\n",
    "\n",
    "In the last lab, you were starting an online store that sells various products. To ensure smooth operations, you developed a program that manages customer orders and inventory.\n",
    "\n",
    "You did so without using flow control. Let's go a step further and improve this code.\n",
    "\n",
    "Follow the steps below to complete the exercise:\n",
    "\n",
    "1. Look at your code from the lab data structures, and improve repeated code with loops.\n",
    "\n",
    "2. Instead of asking the user to input the name of three products that a customer wants to order, do the following:\n",
    "    \n",
    "    a. Prompt the user to enter the name of a product that a customer wants to order.\n",
    "    \n",
    "    b. Add the product name to the \"customer_orders\" set.\n",
    "    \n",
    "    c. Ask the user if they want to add another product (yes/no).\n",
    "    \n",
    "    d. Continue the loop until the user does not want to add another product.\n",
    "\n",
    "3. Instead of updating the inventory by subtracting 1 from the quantity of each product, only do it for  the products that were ordered (those in \"customer_orders\")."
   ]
  },
  {
   "cell_type": "code",
   "execution_count": 8,
   "id": "6701b0f8-eccf-4e25-a6d5-1ee0b6aa518f",
   "metadata": {},
   "outputs": [
    {
     "name": "stdin",
     "output_type": "stream",
     "text": [
      "Enter the quantity for t-shirt:  76\n",
      "Enter the quantity for mug:  34\n",
      "Enter the quantity for hat:  23\n",
      "Enter the quantity for book:  98\n",
      "Enter the quantity for keychain:  21\n"
     ]
    },
    {
     "name": "stdout",
     "output_type": "stream",
     "text": [
      "Initial Inventory: {'t-shirt': 76, 'mug': 34, 'hat': 23, 'book': 98, 'keychain': 21}\n"
     ]
    },
    {
     "name": "stdin",
     "output_type": "stream",
     "text": [
      "Enter a product name for the order (t-shirt, mug, hat, book, keychain):  mug\n",
      "Do you want to add another product? (yes/no):  yes\n",
      "Enter a product name for the order (t-shirt, mug, hat, book, keychain):  mug\n",
      "Do you want to add another product? (yes/no):  yes\n",
      "Enter a product name for the order (t-shirt, mug, hat, book, keychain):  hat\n",
      "Do you want to add another product? (yes/no):  yes\n",
      "Enter a product name for the order (t-shirt, mug, hat, book, keychain):  book\n",
      "Do you want to add another product? (yes/no):  no\n"
     ]
    },
    {
     "name": "stdout",
     "output_type": "stream",
     "text": [
      "Customer Orders: {'hat', 'mug', 'book'}\n",
      "Total Products Ordered: 3\n",
      "Percentage of Products Ordered: 60.0\n",
      "Order Status: (3, 60.0)\n",
      "Updated Inventory:\n",
      "t-shirt: 76\n",
      "mug: 33\n",
      "hat: 22\n",
      "book: 97\n",
      "keychain: 21\n"
     ]
    }
   ],
   "source": [
    "products = [\"t-shirt\", \"mug\", \"hat\", \"book\", \"keychain\"]\n",
    "inventory = {}\n",
    "for product in products:\n",
    "    quantity = int(input(f\"Enter the quantity for {product}: \"))\n",
    "    inventory[product] = quantity\n",
    "\n",
    "print(\"Initial Inventory:\", inventory)\n",
    "\n",
    "customer_orders = set()\n",
    "\n",
    "while True:\n",
    "    order = input(\"Enter a product name for the order (t-shirt, mug, hat, book, keychain): \").lower()\n",
    "    if order in products:\n",
    "        customer_orders.add(order)\n",
    "    else:\n",
    "        print(f\"{order} is not available in the product list.\")\n",
    "    another = input(\"Do you want to add another product? (yes/no): \").lower()\n",
    "    if another != \"yes\":\n",
    "        break\n",
    "\n",
    "print(\"Customer Orders:\", customer_orders)\n",
    "\n",
    "total_products_ordered = len(customer_orders)\n",
    "print(\"Total Products Ordered:\", total_products_ordered)\n",
    "      \n",
    "percentage_ordered = (total_products_ordered / len(products)) * 100\n",
    "print(\"Percentage of Products Ordered:\", percentage_ordered)\n",
    "\n",
    "order_status = (total_products_ordered, percentage_ordered)\n",
    "print(\"Order Status:\", order_status)\n",
    "\n",
    "for product in customer_orders:\n",
    "    if inventory[product] > 0:\n",
    "        inventory[product] -= 1\n",
    "\n",
    "print(\"Updated Inventory:\")\n",
    "for product, quantity in inventory.items():\n",
    "    print(f\"{product}: {quantity}\")"
   ]
  },
  {
   "cell_type": "code",
   "execution_count": null,
   "id": "09b0cd61-1c58-4c19-9299-6e40851379a7",
   "metadata": {},
   "outputs": [],
   "source": []
  },
  {
   "cell_type": "code",
   "execution_count": null,
   "id": "07e33aa1-adf9-4b71-8cc2-2f26c1ab19b9",
   "metadata": {},
   "outputs": [],
   "source": []
  }
 ],
 "metadata": {
  "kernelspec": {
   "display_name": "Python 3 (ipykernel)",
   "language": "python",
   "name": "python3"
  },
  "language_info": {
   "codemirror_mode": {
    "name": "ipython",
    "version": 3
   },
   "file_extension": ".py",
   "mimetype": "text/x-python",
   "name": "python",
   "nbconvert_exporter": "python",
   "pygments_lexer": "ipython3",
   "version": "3.11.5"
  }
 },
 "nbformat": 4,
 "nbformat_minor": 5
}
